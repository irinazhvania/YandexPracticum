{
 "cells": [
  {
   "cell_type": "markdown",
   "id": "6c4a08bb",
   "metadata": {},
   "source": [
    "# Прогнозирование оттока клиентов из банка"
   ]
  },
  {
   "cell_type": "markdown",
   "id": "072a2331",
   "metadata": {},
   "source": [
    "**Описание проекта:**\n",
    "Из «Бета-Банка» стали уходить клиенты. Каждый месяц. Немного, но заметно. Банковские маркетологи посчитали: сохранять текущих клиентов дешевле, чем привлекать новых.\n",
    "Нужно спрогнозировать, уйдёт клиент из банка в ближайшее время или нет. Для анализа предоставлены исторические данные о поведении клиентов и расторжении договоров с банком."
   ]
  },
  {
   "cell_type": "markdown",
   "id": "961e9d3f",
   "metadata": {},
   "source": [
    "**Цель:**\n",
    "на основе имеющихся данных, построить модель, которая будет прогнозировать вероятность того, уйдет ли клиент из банка в ближайшее время."
   ]
  },
  {
   "cell_type": "markdown",
   "id": "fef1509e",
   "metadata": {},
   "source": [
    "**Описание данных:**\n",
    "Признаки:\n",
    "- RowNumber — индекс строки в данных\n",
    "- CustomerId — уникальный идентификатор клиента\n",
    "- Surname — фамилия\n",
    "- CreditScore — кредитный рейтинг\n",
    "- Geography — страна проживания\n",
    "- Gender — пол\n",
    "- Age — возраст\n",
    "- Tenure — сколько лет человек является клиентом банка\n",
    "- Balance — баланс на счёте\n",
    "- NumOfProducts — количество продуктов банка, используемых клиентом\n",
    "- HasCrCard — наличие кредитной карты\n",
    "- IsActiveMember — активность клиента\n",
    "- EstimatedSalary — предполагаемая зарплата\n",
    "\n",
    "Целевой признак\n",
    "- Exited — факт ухода клиента"
   ]
  },
  {
   "cell_type": "markdown",
   "id": "5c253468",
   "metadata": {},
   "source": [
    "**План работы:**\n",
    "- Загрузить и подготовить данные.\n",
    "- Исследовать баланс классов, обучить модель без учёта дисбаланса.\n",
    "- Улучшить качество модели, учитывая дисбаланс классов. Обучить разные модели и найти лучшую.\n",
    "- Провести финальное тестирование."
   ]
  },
  {
   "cell_type": "markdown",
   "id": "caf9a6c7",
   "metadata": {},
   "source": [
    "## Исходные данные"
   ]
  },
  {
   "cell_type": "markdown",
   "id": "49fbdd59",
   "metadata": {},
   "source": [
    "### Первый взгляд"
   ]
  },
  {
   "cell_type": "code",
   "execution_count": 1,
   "id": "b3c068f2",
   "metadata": {},
   "outputs": [
    {
     "name": "stdout",
     "output_type": "stream",
     "text": [
      "Collecting imblearn\n",
      "  Downloading imblearn-0.0-py2.py3-none-any.whl (1.9 kB)\n",
      "Collecting imbalanced-learn\n",
      "  Downloading imbalanced_learn-0.10.0-py3-none-any.whl (225 kB)\n",
      "\u001b[K     |████████████████████████████████| 225 kB 2.3 MB/s eta 0:00:01\n",
      "\u001b[?25hCollecting joblib>=1.1.1\n",
      "  Downloading joblib-1.2.0-py3-none-any.whl (297 kB)\n",
      "\u001b[K     |████████████████████████████████| 297 kB 7.6 MB/s eta 0:00:01\n",
      "\u001b[?25hRequirement already satisfied: threadpoolctl>=2.0.0 in /opt/conda/lib/python3.9/site-packages (from imbalanced-learn->imblearn) (3.1.0)\n",
      "Collecting scikit-learn>=1.0.2\n",
      "  Downloading scikit_learn-1.2.0-cp39-cp39-manylinux_2_17_x86_64.manylinux2014_x86_64.whl (9.5 MB)\n",
      "\u001b[K     |████████████████████████████████| 9.5 MB 69.7 MB/s eta 0:00:01\n",
      "\u001b[?25hRequirement already satisfied: numpy>=1.17.3 in /opt/conda/lib/python3.9/site-packages (from imbalanced-learn->imblearn) (1.21.1)\n",
      "Requirement already satisfied: scipy>=1.3.2 in /opt/conda/lib/python3.9/site-packages (from imbalanced-learn->imblearn) (1.9.1)\n",
      "Installing collected packages: joblib, scikit-learn, imbalanced-learn, imblearn\n",
      "  Attempting uninstall: joblib\n",
      "    Found existing installation: joblib 1.1.0\n",
      "    Uninstalling joblib-1.1.0:\n",
      "      Successfully uninstalled joblib-1.1.0\n",
      "  Attempting uninstall: scikit-learn\n",
      "    Found existing installation: scikit-learn 0.24.1\n",
      "    Uninstalling scikit-learn-0.24.1:\n",
      "      Successfully uninstalled scikit-learn-0.24.1\n",
      "Successfully installed imbalanced-learn-0.10.0 imblearn-0.0 joblib-1.2.0 scikit-learn-1.2.0\n"
     ]
    }
   ],
   "source": [
    "!pip install imblearn"
   ]
  },
  {
   "cell_type": "code",
   "execution_count": 2,
   "id": "b2696465",
   "metadata": {},
   "outputs": [],
   "source": [
    "from imblearn.under_sampling import RandomUnderSampler\n",
    "from imblearn.over_sampling import SMOTE\n",
    "import matplotlib.pyplot as plt\n",
    "import numpy as np\n",
    "import pandas as pd\n",
    "import seaborn as sns\n",
    "from sklearn.ensemble import RandomForestClassifier\n",
    "from sklearn.linear_model import LogisticRegression\n",
    "from sklearn.metrics import roc_auc_score\n",
    "from sklearn.metrics import f1_score\n",
    "from sklearn.model_selection import RandomizedSearchCV\n",
    "from sklearn.model_selection import train_test_split, GridSearchCV\n",
    "from sklearn.preprocessing import OneHotEncoder\n",
    "from sklearn.preprocessing import StandardScaler \n",
    "from sklearn.tree import DecisionTreeClassifier\n",
    "from sklearn.utils import shuffle\n",
    "import warnings\n",
    "\n",
    "\n",
    "warnings.filterwarnings('ignore')\n",
    "pd.options.mode.chained_assignment = None"
   ]
  },
  {
   "cell_type": "code",
   "execution_count": 3,
   "id": "56b13a97",
   "metadata": {},
   "outputs": [
    {
     "name": "stdout",
     "output_type": "stream",
     "text": [
      "<class 'pandas.core.frame.DataFrame'>\n",
      "RangeIndex: 10000 entries, 0 to 9999\n",
      "Data columns (total 14 columns):\n",
      " #   Column           Non-Null Count  Dtype  \n",
      "---  ------           --------------  -----  \n",
      " 0   RowNumber        10000 non-null  int64  \n",
      " 1   CustomerId       10000 non-null  int64  \n",
      " 2   Surname          10000 non-null  object \n",
      " 3   CreditScore      10000 non-null  int64  \n",
      " 4   Geography        10000 non-null  object \n",
      " 5   Gender           10000 non-null  object \n",
      " 6   Age              10000 non-null  int64  \n",
      " 7   Tenure           9091 non-null   float64\n",
      " 8   Balance          10000 non-null  float64\n",
      " 9   NumOfProducts    10000 non-null  int64  \n",
      " 10  HasCrCard        10000 non-null  int64  \n",
      " 11  IsActiveMember   10000 non-null  int64  \n",
      " 12  EstimatedSalary  10000 non-null  float64\n",
      " 13  Exited           10000 non-null  int64  \n",
      "dtypes: float64(3), int64(8), object(3)\n",
      "memory usage: 1.1+ MB\n"
     ]
    },
    {
     "data": {
      "text/html": [
       "<div>\n",
       "<style scoped>\n",
       "    .dataframe tbody tr th:only-of-type {\n",
       "        vertical-align: middle;\n",
       "    }\n",
       "\n",
       "    .dataframe tbody tr th {\n",
       "        vertical-align: top;\n",
       "    }\n",
       "\n",
       "    .dataframe thead th {\n",
       "        text-align: right;\n",
       "    }\n",
       "</style>\n",
       "<table border=\"1\" class=\"dataframe\">\n",
       "  <thead>\n",
       "    <tr style=\"text-align: right;\">\n",
       "      <th></th>\n",
       "      <th>RowNumber</th>\n",
       "      <th>CustomerId</th>\n",
       "      <th>Surname</th>\n",
       "      <th>CreditScore</th>\n",
       "      <th>Geography</th>\n",
       "      <th>Gender</th>\n",
       "      <th>Age</th>\n",
       "      <th>Tenure</th>\n",
       "      <th>Balance</th>\n",
       "      <th>NumOfProducts</th>\n",
       "      <th>HasCrCard</th>\n",
       "      <th>IsActiveMember</th>\n",
       "      <th>EstimatedSalary</th>\n",
       "      <th>Exited</th>\n",
       "    </tr>\n",
       "  </thead>\n",
       "  <tbody>\n",
       "    <tr>\n",
       "      <th>0</th>\n",
       "      <td>1</td>\n",
       "      <td>15634602</td>\n",
       "      <td>Hargrave</td>\n",
       "      <td>619</td>\n",
       "      <td>France</td>\n",
       "      <td>Female</td>\n",
       "      <td>42</td>\n",
       "      <td>2.0</td>\n",
       "      <td>0.00</td>\n",
       "      <td>1</td>\n",
       "      <td>1</td>\n",
       "      <td>1</td>\n",
       "      <td>101348.88</td>\n",
       "      <td>1</td>\n",
       "    </tr>\n",
       "    <tr>\n",
       "      <th>1</th>\n",
       "      <td>2</td>\n",
       "      <td>15647311</td>\n",
       "      <td>Hill</td>\n",
       "      <td>608</td>\n",
       "      <td>Spain</td>\n",
       "      <td>Female</td>\n",
       "      <td>41</td>\n",
       "      <td>1.0</td>\n",
       "      <td>83807.86</td>\n",
       "      <td>1</td>\n",
       "      <td>0</td>\n",
       "      <td>1</td>\n",
       "      <td>112542.58</td>\n",
       "      <td>0</td>\n",
       "    </tr>\n",
       "    <tr>\n",
       "      <th>2</th>\n",
       "      <td>3</td>\n",
       "      <td>15619304</td>\n",
       "      <td>Onio</td>\n",
       "      <td>502</td>\n",
       "      <td>France</td>\n",
       "      <td>Female</td>\n",
       "      <td>42</td>\n",
       "      <td>8.0</td>\n",
       "      <td>159660.80</td>\n",
       "      <td>3</td>\n",
       "      <td>1</td>\n",
       "      <td>0</td>\n",
       "      <td>113931.57</td>\n",
       "      <td>1</td>\n",
       "    </tr>\n",
       "    <tr>\n",
       "      <th>3</th>\n",
       "      <td>4</td>\n",
       "      <td>15701354</td>\n",
       "      <td>Boni</td>\n",
       "      <td>699</td>\n",
       "      <td>France</td>\n",
       "      <td>Female</td>\n",
       "      <td>39</td>\n",
       "      <td>1.0</td>\n",
       "      <td>0.00</td>\n",
       "      <td>2</td>\n",
       "      <td>0</td>\n",
       "      <td>0</td>\n",
       "      <td>93826.63</td>\n",
       "      <td>0</td>\n",
       "    </tr>\n",
       "    <tr>\n",
       "      <th>4</th>\n",
       "      <td>5</td>\n",
       "      <td>15737888</td>\n",
       "      <td>Mitchell</td>\n",
       "      <td>850</td>\n",
       "      <td>Spain</td>\n",
       "      <td>Female</td>\n",
       "      <td>43</td>\n",
       "      <td>2.0</td>\n",
       "      <td>125510.82</td>\n",
       "      <td>1</td>\n",
       "      <td>1</td>\n",
       "      <td>1</td>\n",
       "      <td>79084.10</td>\n",
       "      <td>0</td>\n",
       "    </tr>\n",
       "  </tbody>\n",
       "</table>\n",
       "</div>"
      ],
      "text/plain": [
       "   RowNumber  CustomerId   Surname  CreditScore Geography  Gender  Age  \\\n",
       "0          1    15634602  Hargrave          619    France  Female   42   \n",
       "1          2    15647311      Hill          608     Spain  Female   41   \n",
       "2          3    15619304      Onio          502    France  Female   42   \n",
       "3          4    15701354      Boni          699    France  Female   39   \n",
       "4          5    15737888  Mitchell          850     Spain  Female   43   \n",
       "\n",
       "   Tenure    Balance  NumOfProducts  HasCrCard  IsActiveMember  \\\n",
       "0     2.0       0.00              1          1               1   \n",
       "1     1.0   83807.86              1          0               1   \n",
       "2     8.0  159660.80              3          1               0   \n",
       "3     1.0       0.00              2          0               0   \n",
       "4     2.0  125510.82              1          1               1   \n",
       "\n",
       "   EstimatedSalary  Exited  \n",
       "0        101348.88       1  \n",
       "1        112542.58       0  \n",
       "2        113931.57       1  \n",
       "3         93826.63       0  \n",
       "4         79084.10       0  "
      ]
     },
     "execution_count": 3,
     "metadata": {},
     "output_type": "execute_result"
    }
   ],
   "source": [
    "df = pd.read_csv('https://code.s3.yandex.net/datasets/Churn.csv')\n",
    "df.info()\n",
    "df.head()"
   ]
  },
  {
   "cell_type": "markdown",
   "id": "284bc8d2",
   "metadata": {},
   "source": [
    "C типами данных все хорошо, можно не менять. Теперь посмотрим на пропуски и дубликаты. Сразу переведем названия колонок в нижний регистр."
   ]
  },
  {
   "cell_type": "code",
   "execution_count": 4,
   "id": "7a0411f2",
   "metadata": {},
   "outputs": [],
   "source": [
    "df.columns = df.columns.str.lower()\n",
    "# df.head() #проверка"
   ]
  },
  {
   "cell_type": "code",
   "execution_count": 5,
   "id": "0c6e0ad1",
   "metadata": {},
   "outputs": [
    {
     "name": "stdout",
     "output_type": "stream",
     "text": [
      "rownumber            0\n",
      "customerid           0\n",
      "surname              0\n",
      "creditscore          0\n",
      "geography            0\n",
      "gender               0\n",
      "age                  0\n",
      "tenure             909\n",
      "balance              0\n",
      "numofproducts        0\n",
      "hascrcard            0\n",
      "isactivemember       0\n",
      "estimatedsalary      0\n",
      "exited               0\n",
      "dtype: int64\n",
      "\n",
      "\n",
      "duplicates: 0\n"
     ]
    }
   ],
   "source": [
    "print(df.isna().sum())\n",
    "print('\\n\\nduplicates:', df.duplicated().sum())"
   ]
  },
  {
   "cell_type": "markdown",
   "id": "9ba10bef",
   "metadata": {},
   "source": [
    "Присутствует около 10% пропусков в колонке tenure. Не будем удалять - многовато, да и колонка кажется важной.\n",
    "Полных дубликатов нет.\n",
    "\n",
    "Есть колонки которые точно не понадобятся, их можно целиком дропнуть. Это: rawnumber (индекс итак ведь есть) и surname (будем верить, что надежность клиента не зависит от его фамилии). Customerid вцелом тоже не нужен для обучения модели, но потом возможно будет нужен для сотрудников банка, чтобы опознать неблагонадежных клиентов, при желании его можно будет обратно приклеить в тестовой выборке."
   ]
  },
  {
   "cell_type": "code",
   "execution_count": 6,
   "id": "4d4e8d71",
   "metadata": {},
   "outputs": [],
   "source": [
    "df = df.drop(['rownumber', 'customerid', 'surname'], axis='columns')\n",
    "#df.columns  #проверка"
   ]
  },
  {
   "cell_type": "markdown",
   "id": "7a120c88",
   "metadata": {},
   "source": [
    "Посмотрим какие значения у нас лежат в датасете в численных столбцах."
   ]
  },
  {
   "cell_type": "code",
   "execution_count": 7,
   "id": "a80b1106",
   "metadata": {
    "scrolled": false
   },
   "outputs": [
    {
     "data": {
      "image/png": "[encoded data removed]",
      "text/plain": [
       "<Figure size 360x2520 with 10 Axes>"
      ]
     },
     "metadata": {
      "needs_background": "light"
     },
     "output_type": "display_data"
    }
   ],
   "source": [
    "columns_var = ['creditscore', 'age', 'tenure', 'balance', 'estimatedsalary']\n",
    "n = 1\n",
    "plt.figure(figsize=(5, 35))\n",
    "for col in columns_var:\n",
    "    plt.subplot(10,1,n)\n",
    "    plt.boxplot(df[df[col].notna()][col], vert=False, patch_artist=True)\n",
    "    plt.title(col)\n",
    "    plt.grid()\n",
    "    n += 1\n",
    "    plt.subplot(10,1,n)\n",
    "    plt.hist(df[col])\n",
    "    plt.axvline(x=df[col].median(), color='r', label='Median')\n",
    "    plt.axvline(x=df[col].mean(), color='b', label='Mean')\n",
    "    plt.legend()\n",
    "    plt.grid()\n",
    "    n += 1\n",
    "plt.show()"
   ]
  },
  {
   "cell_type": "markdown",
   "id": "2dd18ac4",
   "metadata": {},
   "source": [
    "Никаких страшных аномалий не видно.\n",
    "\n",
    "Посмотрим теперь, какие значения в категориальных столбцах."
   ]
  },
  {
   "cell_type": "code",
   "execution_count": 8,
   "id": "0fcdb667",
   "metadata": {},
   "outputs": [
    {
     "data": {
      "image/png": "[encoded data removed]",
      "text/plain": [
       "<Figure size 720x576 with 6 Axes>"
      ]
     },
     "metadata": {},
     "output_type": "display_data"
    }
   ],
   "source": [
    "columns_cat = ['geography', 'gender', 'numofproducts', 'hascrcard', 'isactivemember', 'exited']\n",
    "n = 1\n",
    "plt.figure(figsize=(10,8))\n",
    "for col in columns_cat:\n",
    "    plt.subplot(2,3,n)\n",
    "    n += 1\n",
    "    y = df[col].value_counts()\n",
    "    plt.pie(y, labels=y.index)#, colors=plt.cm.Dark2.colors)\n",
    "    plt.title(col)\n",
    "   # plt.show()\n",
    " #   print(df[col].value_counts())"
   ]
  },
  {
   "cell_type": "markdown",
   "id": "60b76a92",
   "metadata": {},
   "source": [
    "Проверим нет ли мультиколлинеарности."
   ]
  },
  {
   "cell_type": "code",
   "execution_count": 9,
   "id": "2d5da308",
   "metadata": {},
   "outputs": [
    {
     "data": {
      "image/png": "[encoded data removed]",
      "text/plain": [
       "<Figure size 720x360 with 2 Axes>"
      ]
     },
     "metadata": {
      "needs_background": "light"
     },
     "output_type": "display_data"
    }
   ],
   "source": [
    "plt.figure(figsize=(10,5))\n",
    "sns.heatmap(df.corr(), annot=True, fmt='.2f')\n",
    "plt.title('Матрица корреляции для исходных данных')\n",
    "plt.show()"
   ]
  },
  {
   "cell_type": "markdown",
   "id": "ab5db6b2",
   "metadata": {},
   "source": [
    "**Вывод**\n",
    "\n",
    "Явных дубликатов нет, пропуски есть только в столбце tenure (около 10%), мультиколлинеарности данных тоже нет. Наибольший коэф. корреляции Пирсона с целевым признаком, у столбца age.\n"
   ]
  },
  {
   "cell_type": "markdown",
   "id": "33a6a5ec",
   "metadata": {},
   "source": [
    "### Заполнение пропусков"
   ]
  },
  {
   "cell_type": "markdown",
   "id": "e9578a4a",
   "metadata": {},
   "source": [
    "Посмотрим на строки с пропущенными значениями"
   ]
  },
  {
   "cell_type": "code",
   "execution_count": 10,
   "id": "3c2cdc4b",
   "metadata": {},
   "outputs": [
    {
     "data": {
      "text/html": [
       "<div>\n",
       "<style scoped>\n",
       "    .dataframe tbody tr th:only-of-type {\n",
       "        vertical-align: middle;\n",
       "    }\n",
       "\n",
       "    .dataframe tbody tr th {\n",
       "        vertical-align: top;\n",
       "    }\n",
       "\n",
       "    .dataframe thead th {\n",
       "        text-align: right;\n",
       "    }\n",
       "</style>\n",
       "<table border=\"1\" class=\"dataframe\">\n",
       "  <thead>\n",
       "    <tr style=\"text-align: right;\">\n",
       "      <th></th>\n",
       "      <th>creditscore</th>\n",
       "      <th>geography</th>\n",
       "      <th>gender</th>\n",
       "      <th>age</th>\n",
       "      <th>tenure</th>\n",
       "      <th>balance</th>\n",
       "      <th>numofproducts</th>\n",
       "      <th>hascrcard</th>\n",
       "      <th>isactivemember</th>\n",
       "      <th>estimatedsalary</th>\n",
       "      <th>exited</th>\n",
       "    </tr>\n",
       "  </thead>\n",
       "  <tbody>\n",
       "    <tr>\n",
       "      <th>30</th>\n",
       "      <td>591</td>\n",
       "      <td>Spain</td>\n",
       "      <td>Female</td>\n",
       "      <td>39</td>\n",
       "      <td>NaN</td>\n",
       "      <td>0.00</td>\n",
       "      <td>3</td>\n",
       "      <td>1</td>\n",
       "      <td>0</td>\n",
       "      <td>140469.38</td>\n",
       "      <td>1</td>\n",
       "    </tr>\n",
       "    <tr>\n",
       "      <th>48</th>\n",
       "      <td>550</td>\n",
       "      <td>Germany</td>\n",
       "      <td>Male</td>\n",
       "      <td>38</td>\n",
       "      <td>NaN</td>\n",
       "      <td>103391.38</td>\n",
       "      <td>1</td>\n",
       "      <td>0</td>\n",
       "      <td>1</td>\n",
       "      <td>90878.13</td>\n",
       "      <td>0</td>\n",
       "    </tr>\n",
       "    <tr>\n",
       "      <th>51</th>\n",
       "      <td>585</td>\n",
       "      <td>Germany</td>\n",
       "      <td>Male</td>\n",
       "      <td>36</td>\n",
       "      <td>NaN</td>\n",
       "      <td>146050.97</td>\n",
       "      <td>2</td>\n",
       "      <td>0</td>\n",
       "      <td>0</td>\n",
       "      <td>86424.57</td>\n",
       "      <td>0</td>\n",
       "    </tr>\n",
       "    <tr>\n",
       "      <th>53</th>\n",
       "      <td>655</td>\n",
       "      <td>Germany</td>\n",
       "      <td>Male</td>\n",
       "      <td>41</td>\n",
       "      <td>NaN</td>\n",
       "      <td>125561.97</td>\n",
       "      <td>1</td>\n",
       "      <td>0</td>\n",
       "      <td>0</td>\n",
       "      <td>164040.94</td>\n",
       "      <td>1</td>\n",
       "    </tr>\n",
       "    <tr>\n",
       "      <th>60</th>\n",
       "      <td>742</td>\n",
       "      <td>Germany</td>\n",
       "      <td>Male</td>\n",
       "      <td>35</td>\n",
       "      <td>NaN</td>\n",
       "      <td>136857.00</td>\n",
       "      <td>1</td>\n",
       "      <td>0</td>\n",
       "      <td>0</td>\n",
       "      <td>84509.57</td>\n",
       "      <td>0</td>\n",
       "    </tr>\n",
       "    <tr>\n",
       "      <th>82</th>\n",
       "      <td>543</td>\n",
       "      <td>France</td>\n",
       "      <td>Female</td>\n",
       "      <td>36</td>\n",
       "      <td>NaN</td>\n",
       "      <td>0.00</td>\n",
       "      <td>2</td>\n",
       "      <td>0</td>\n",
       "      <td>0</td>\n",
       "      <td>26019.59</td>\n",
       "      <td>0</td>\n",
       "    </tr>\n",
       "    <tr>\n",
       "      <th>85</th>\n",
       "      <td>652</td>\n",
       "      <td>Spain</td>\n",
       "      <td>Female</td>\n",
       "      <td>75</td>\n",
       "      <td>NaN</td>\n",
       "      <td>0.00</td>\n",
       "      <td>2</td>\n",
       "      <td>1</td>\n",
       "      <td>1</td>\n",
       "      <td>114675.75</td>\n",
       "      <td>0</td>\n",
       "    </tr>\n",
       "    <tr>\n",
       "      <th>94</th>\n",
       "      <td>730</td>\n",
       "      <td>Spain</td>\n",
       "      <td>Male</td>\n",
       "      <td>42</td>\n",
       "      <td>NaN</td>\n",
       "      <td>0.00</td>\n",
       "      <td>2</td>\n",
       "      <td>0</td>\n",
       "      <td>1</td>\n",
       "      <td>85982.47</td>\n",
       "      <td>0</td>\n",
       "    </tr>\n",
       "    <tr>\n",
       "      <th>99</th>\n",
       "      <td>413</td>\n",
       "      <td>France</td>\n",
       "      <td>Male</td>\n",
       "      <td>34</td>\n",
       "      <td>NaN</td>\n",
       "      <td>0.00</td>\n",
       "      <td>2</td>\n",
       "      <td>0</td>\n",
       "      <td>0</td>\n",
       "      <td>6534.18</td>\n",
       "      <td>0</td>\n",
       "    </tr>\n",
       "    <tr>\n",
       "      <th>111</th>\n",
       "      <td>538</td>\n",
       "      <td>Germany</td>\n",
       "      <td>Male</td>\n",
       "      <td>39</td>\n",
       "      <td>NaN</td>\n",
       "      <td>108055.10</td>\n",
       "      <td>2</td>\n",
       "      <td>1</td>\n",
       "      <td>0</td>\n",
       "      <td>27231.26</td>\n",
       "      <td>0</td>\n",
       "    </tr>\n",
       "  </tbody>\n",
       "</table>\n",
       "</div>"
      ],
      "text/plain": [
       "     creditscore geography  gender  age  tenure    balance  numofproducts  \\\n",
       "30           591     Spain  Female   39     NaN       0.00              3   \n",
       "48           550   Germany    Male   38     NaN  103391.38              1   \n",
       "51           585   Germany    Male   36     NaN  146050.97              2   \n",
       "53           655   Germany    Male   41     NaN  125561.97              1   \n",
       "60           742   Germany    Male   35     NaN  136857.00              1   \n",
       "82           543    France  Female   36     NaN       0.00              2   \n",
       "85           652     Spain  Female   75     NaN       0.00              2   \n",
       "94           730     Spain    Male   42     NaN       0.00              2   \n",
       "99           413    France    Male   34     NaN       0.00              2   \n",
       "111          538   Germany    Male   39     NaN  108055.10              2   \n",
       "\n",
       "     hascrcard  isactivemember  estimatedsalary  exited  \n",
       "30           1               0        140469.38       1  \n",
       "48           0               1         90878.13       0  \n",
       "51           0               0         86424.57       0  \n",
       "53           0               0        164040.94       1  \n",
       "60           0               0         84509.57       0  \n",
       "82           0               0         26019.59       0  \n",
       "85           1               1        114675.75       0  \n",
       "94           0               1         85982.47       0  \n",
       "99           0               0          6534.18       0  \n",
       "111          1               0         27231.26       0  "
      ]
     },
     "execution_count": 10,
     "metadata": {},
     "output_type": "execute_result"
    }
   ],
   "source": [
    "df[df['tenure'].isna()].head(10)"
   ]
  },
  {
   "cell_type": "markdown",
   "id": "1d4f053e",
   "metadata": {},
   "source": [
    "Ничего подозрительного. Заполним пропуски медианой."
   ]
  },
  {
   "cell_type": "code",
   "execution_count": 11,
   "id": "47ab7f0c",
   "metadata": {},
   "outputs": [],
   "source": [
    "df['tenure'] = df['tenure'].fillna(df['tenure'].median())\n",
    "# df.isna().sum() #проверка"
   ]
  },
  {
   "cell_type": "markdown",
   "id": "2c4c6b66",
   "metadata": {},
   "source": [
    "## Подготовка признаков"
   ]
  },
  {
   "cell_type": "markdown",
   "id": "f318c005",
   "metadata": {},
   "source": [
    "### Разбивка на тренировочную и тестовую выборки"
   ]
  },
  {
   "cell_type": "markdown",
   "id": "5c130b77",
   "metadata": {},
   "source": [
    "Прежде всего разбиваем датасет на тренировочный с тестовым. Валидационный делать не будем, валидацию пусть гридсерч сам вытаскивает из трейна."
   ]
  },
  {
   "cell_type": "code",
   "execution_count": 12,
   "id": "dda8e4aa",
   "metadata": {},
   "outputs": [],
   "source": [
    "features = df.drop('exited', axis = 'columns')\n",
    "target = df['exited']\n",
    "\n",
    "features_train, features_valtest, target_train, target_valtest = train_test_split(features, target, test_size=0.4, stratify=target, random_state=1)\n",
    "# print(features_train.shape, features_test.shape, target_train.shape, target_test.shape) # проверка\n",
    "\n",
    "features_valid, features_test, target_valid, target_test = train_test_split(features_valtest, target_valtest, test_size=0.5, stratify=target_valtest, random_state=1)\n"
   ]
  },
  {
   "cell_type": "markdown",
   "id": "7dda2253",
   "metadata": {},
   "source": [
    "### Кодирование категориальных столбцов"
   ]
  },
  {
   "cell_type": "markdown",
   "id": "e4525b78",
   "metadata": {},
   "source": [
    "Теперь делаем кодирование категориальных столбцов, отдельно тренировочную и тестовую выборку, чтобы избежать data leakage. \n",
    "В данном датасете надо сделать One-Hot Encoding у столбцов gender и geography. Остальные признаки можно не трогать. "
   ]
  },
  {
   "cell_type": "code",
   "execution_count": 14,
   "id": "4efe57b8",
   "metadata": {},
   "outputs": [
    {
     "data": {
      "text/html": [
       "<div>\n",
       "<style scoped>\n",
       "    .dataframe tbody tr th:only-of-type {\n",
       "        vertical-align: middle;\n",
       "    }\n",
       "\n",
       "    .dataframe tbody tr th {\n",
       "        vertical-align: top;\n",
       "    }\n",
       "\n",
       "    .dataframe thead th {\n",
       "        text-align: right;\n",
       "    }\n",
       "</style>\n",
       "<table border=\"1\" class=\"dataframe\">\n",
       "  <thead>\n",
       "    <tr style=\"text-align: right;\">\n",
       "      <th></th>\n",
       "      <th>creditscore</th>\n",
       "      <th>age</th>\n",
       "      <th>tenure</th>\n",
       "      <th>balance</th>\n",
       "      <th>numofproducts</th>\n",
       "      <th>hascrcard</th>\n",
       "      <th>isactivemember</th>\n",
       "      <th>estimatedsalary</th>\n",
       "      <th>gender_Male</th>\n",
       "      <th>geography_Germany</th>\n",
       "      <th>geography_Spain</th>\n",
       "    </tr>\n",
       "  </thead>\n",
       "  <tbody>\n",
       "    <tr>\n",
       "      <th>6431</th>\n",
       "      <td>540</td>\n",
       "      <td>39</td>\n",
       "      <td>1.0</td>\n",
       "      <td>0.00</td>\n",
       "      <td>1</td>\n",
       "      <td>0</td>\n",
       "      <td>1</td>\n",
       "      <td>108419.41</td>\n",
       "      <td>1.0</td>\n",
       "      <td>0.0</td>\n",
       "      <td>1.0</td>\n",
       "    </tr>\n",
       "    <tr>\n",
       "      <th>7524</th>\n",
       "      <td>660</td>\n",
       "      <td>40</td>\n",
       "      <td>8.0</td>\n",
       "      <td>167181.01</td>\n",
       "      <td>1</td>\n",
       "      <td>1</td>\n",
       "      <td>1</td>\n",
       "      <td>185156.94</td>\n",
       "      <td>0.0</td>\n",
       "      <td>0.0</td>\n",
       "      <td>0.0</td>\n",
       "    </tr>\n",
       "    <tr>\n",
       "      <th>3430</th>\n",
       "      <td>625</td>\n",
       "      <td>37</td>\n",
       "      <td>1.0</td>\n",
       "      <td>177069.24</td>\n",
       "      <td>2</td>\n",
       "      <td>1</td>\n",
       "      <td>1</td>\n",
       "      <td>96088.54</td>\n",
       "      <td>1.0</td>\n",
       "      <td>0.0</td>\n",
       "      <td>0.0</td>\n",
       "    </tr>\n",
       "    <tr>\n",
       "      <th>9088</th>\n",
       "      <td>736</td>\n",
       "      <td>36</td>\n",
       "      <td>8.0</td>\n",
       "      <td>103914.17</td>\n",
       "      <td>1</td>\n",
       "      <td>1</td>\n",
       "      <td>1</td>\n",
       "      <td>110035.88</td>\n",
       "      <td>0.0</td>\n",
       "      <td>1.0</td>\n",
       "      <td>0.0</td>\n",
       "    </tr>\n",
       "    <tr>\n",
       "      <th>7606</th>\n",
       "      <td>680</td>\n",
       "      <td>31</td>\n",
       "      <td>3.0</td>\n",
       "      <td>127331.46</td>\n",
       "      <td>3</td>\n",
       "      <td>1</td>\n",
       "      <td>1</td>\n",
       "      <td>176433.60</td>\n",
       "      <td>0.0</td>\n",
       "      <td>1.0</td>\n",
       "      <td>0.0</td>\n",
       "    </tr>\n",
       "    <tr>\n",
       "      <th>...</th>\n",
       "      <td>...</td>\n",
       "      <td>...</td>\n",
       "      <td>...</td>\n",
       "      <td>...</td>\n",
       "      <td>...</td>\n",
       "      <td>...</td>\n",
       "      <td>...</td>\n",
       "      <td>...</td>\n",
       "      <td>...</td>\n",
       "      <td>...</td>\n",
       "      <td>...</td>\n",
       "    </tr>\n",
       "    <tr>\n",
       "      <th>5915</th>\n",
       "      <td>679</td>\n",
       "      <td>47</td>\n",
       "      <td>10.0</td>\n",
       "      <td>198546.10</td>\n",
       "      <td>2</td>\n",
       "      <td>1</td>\n",
       "      <td>0</td>\n",
       "      <td>191198.92</td>\n",
       "      <td>1.0</td>\n",
       "      <td>0.0</td>\n",
       "      <td>0.0</td>\n",
       "    </tr>\n",
       "    <tr>\n",
       "      <th>9358</th>\n",
       "      <td>837</td>\n",
       "      <td>29</td>\n",
       "      <td>9.0</td>\n",
       "      <td>0.00</td>\n",
       "      <td>2</td>\n",
       "      <td>1</td>\n",
       "      <td>1</td>\n",
       "      <td>41866.26</td>\n",
       "      <td>0.0</td>\n",
       "      <td>0.0</td>\n",
       "      <td>0.0</td>\n",
       "    </tr>\n",
       "    <tr>\n",
       "      <th>3639</th>\n",
       "      <td>680</td>\n",
       "      <td>48</td>\n",
       "      <td>8.0</td>\n",
       "      <td>115115.38</td>\n",
       "      <td>1</td>\n",
       "      <td>1</td>\n",
       "      <td>0</td>\n",
       "      <td>139558.60</td>\n",
       "      <td>0.0</td>\n",
       "      <td>1.0</td>\n",
       "      <td>0.0</td>\n",
       "    </tr>\n",
       "    <tr>\n",
       "      <th>451</th>\n",
       "      <td>850</td>\n",
       "      <td>40</td>\n",
       "      <td>9.0</td>\n",
       "      <td>0.00</td>\n",
       "      <td>2</td>\n",
       "      <td>0</td>\n",
       "      <td>1</td>\n",
       "      <td>119232.33</td>\n",
       "      <td>1.0</td>\n",
       "      <td>0.0</td>\n",
       "      <td>0.0</td>\n",
       "    </tr>\n",
       "    <tr>\n",
       "      <th>8407</th>\n",
       "      <td>726</td>\n",
       "      <td>28</td>\n",
       "      <td>5.0</td>\n",
       "      <td>0.00</td>\n",
       "      <td>1</td>\n",
       "      <td>0</td>\n",
       "      <td>0</td>\n",
       "      <td>98060.51</td>\n",
       "      <td>1.0</td>\n",
       "      <td>0.0</td>\n",
       "      <td>0.0</td>\n",
       "    </tr>\n",
       "  </tbody>\n",
       "</table>\n",
       "<p>6000 rows × 11 columns</p>\n",
       "</div>"
      ],
      "text/plain": [
       "      creditscore  age  tenure    balance  numofproducts  hascrcard  \\\n",
       "6431          540   39     1.0       0.00              1          0   \n",
       "7524          660   40     8.0  167181.01              1          1   \n",
       "3430          625   37     1.0  177069.24              2          1   \n",
       "9088          736   36     8.0  103914.17              1          1   \n",
       "7606          680   31     3.0  127331.46              3          1   \n",
       "...           ...  ...     ...        ...            ...        ...   \n",
       "5915          679   47    10.0  198546.10              2          1   \n",
       "9358          837   29     9.0       0.00              2          1   \n",
       "3639          680   48     8.0  115115.38              1          1   \n",
       "451           850   40     9.0       0.00              2          0   \n",
       "8407          726   28     5.0       0.00              1          0   \n",
       "\n",
       "      isactivemember  estimatedsalary  gender_Male  geography_Germany  \\\n",
       "6431               1        108419.41          1.0                0.0   \n",
       "7524               1        185156.94          0.0                0.0   \n",
       "3430               1         96088.54          1.0                0.0   \n",
       "9088               1        110035.88          0.0                1.0   \n",
       "7606               1        176433.60          0.0                1.0   \n",
       "...              ...              ...          ...                ...   \n",
       "5915               0        191198.92          1.0                0.0   \n",
       "9358               1         41866.26          0.0                0.0   \n",
       "3639               0        139558.60          0.0                1.0   \n",
       "451                1        119232.33          1.0                0.0   \n",
       "8407               0         98060.51          1.0                0.0   \n",
       "\n",
       "      geography_Spain  \n",
       "6431              1.0  \n",
       "7524              0.0  \n",
       "3430              0.0  \n",
       "9088              0.0  \n",
       "7606              0.0  \n",
       "...               ...  \n",
       "5915              0.0  \n",
       "9358              0.0  \n",
       "3639              0.0  \n",
       "451               0.0  \n",
       "8407              0.0  \n",
       "\n",
       "[6000 rows x 11 columns]"
      ]
     },
     "metadata": {},
     "output_type": "display_data"
    },
    {
     "name": "stdout",
     "output_type": "stream",
     "text": [
      "train columns:\n",
      "Index(['creditscore', 'age', 'tenure', 'balance', 'numofproducts', 'hascrcard',\n",
      "       'isactivemember', 'estimatedsalary', 'gender_Male', 'geography_Germany',\n",
      "       'geography_Spain'],\n",
      "      dtype='object')\n",
      "\n",
      "valid columns:\n",
      "Index(['creditscore', 'age', 'tenure', 'balance', 'numofproducts', 'hascrcard',\n",
      "       'isactivemember', 'estimatedsalary', 'gender_Male', 'geography_Germany',\n",
      "       'geography_Spain'],\n",
      "      dtype='object')\n",
      "\n",
      "test columns\n",
      "Index(['creditscore', 'age', 'tenure', 'balance', 'numofproducts', 'hascrcard',\n",
      "       'isactivemember', 'estimatedsalary', 'gender_Male', 'geography_Germany',\n",
      "       'geography_Spain'],\n",
      "      dtype='object')\n"
     ]
    }
   ],
   "source": [
    "encoder = OneHotEncoder(handle_unknown='ignore', drop='first')\n",
    "encoder.fit(features_train[['gender', 'geography']])\n",
    "\n",
    "encoded_train = pd.DataFrame(encoder.transform(features_train[['gender', 'geography']])\n",
    "                             .toarray(), columns=encoder.get_feature_names_out()\n",
    "                             , index=features_train.index)\n",
    "\n",
    "encoded_valid = pd.DataFrame(encoder.transform(features_valid[['gender', 'geography']])\n",
    "                             .toarray(), columns=encoder.get_feature_names_out()\n",
    "                             , index=features_valid.index)\n",
    "\n",
    "encoded_test = pd.DataFrame(encoder.transform(features_test[['gender', 'geography']])\n",
    "                             .toarray(), columns=encoder.get_feature_names_out()\n",
    "                             , index=features_test.index)\n",
    "\n",
    "features_train = features_train.join(encoded_train).drop(['geography', 'gender'], axis='columns')\n",
    "features_valid = features_valid.join(encoded_valid).drop(['geography', 'gender'], axis='columns')\n",
    "features_test = features_test.join(encoded_test).drop(['geography', 'gender'], axis='columns')\n",
    "display(features_train)\n",
    "print('train columns:', features_train.columns,\n",
    "      '\\nvalid columns:', features_valid.columns,\n",
    "      '\\ntest columns', features_test.columns, sep='\\n')\n"
   ]
  },
  {
   "cell_type": "markdown",
   "id": "7b5645f6",
   "metadata": {},
   "source": [
    "### Скейлинг признаков"
   ]
  },
  {
   "cell_type": "markdown",
   "id": "648729ef",
   "metadata": {},
   "source": [
    "Отнормируем столбцы 'creditscore', 'age', 'tenure', 'balance', 'estimatedsalary'."
   ]
  },
  {
   "cell_type": "code",
   "execution_count": 15,
   "id": "cf9abe2d",
   "metadata": {},
   "outputs": [],
   "source": [
    "columns_to_scale = ['creditscore', 'age', 'tenure', 'balance', 'estimatedsalary']\n",
    "scaler = StandardScaler()\n",
    "\n",
    "scaler.fit(features_train[columns_to_scale])\n",
    "features_train[columns_to_scale] = scaler.transform(features_train[columns_to_scale])\n",
    "features_valid[columns_to_scale] = scaler.transform(features_valid[columns_to_scale])\n",
    "features_test[columns_to_scale] = scaler.transform(features_test[columns_to_scale])"
   ]
  },
  {
   "cell_type": "markdown",
   "id": "3ebd4db7",
   "metadata": {},
   "source": [
    "## Исследование дисбаланса классов"
   ]
  },
  {
   "cell_type": "code",
   "execution_count": 16,
   "id": "9e4767df",
   "metadata": {},
   "outputs": [
    {
     "data": {
      "text/plain": [
       "0    7963\n",
       "1    2037\n",
       "Name: exited, dtype: int64"
      ]
     },
     "execution_count": 16,
     "metadata": {},
     "output_type": "execute_result"
    }
   ],
   "source": [
    "df['exited'].value_counts()"
   ]
  },
  {
   "cell_type": "code",
   "execution_count": 17,
   "id": "c15897ec",
   "metadata": {},
   "outputs": [
    {
     "name": "stdout",
     "output_type": "stream",
     "text": [
      "Нулей больше, чем единиц в 3.9 раз\n"
     ]
    }
   ],
   "source": [
    "neg, pos = df['exited'].value_counts().iloc[[0,1]]\n",
    "balance_coef = neg / pos\n",
    "print(f'Нулей больше, чем единиц в {round(balance_coef,1)} раз')"
   ]
  },
  {
   "cell_type": "markdown",
   "id": "7d199a50",
   "metadata": {},
   "source": [
    "### Вывод\n",
    "Есть дисбаланс, нулей больше чем единиц почти в 4 раза."
   ]
  },
  {
   "cell_type": "markdown",
   "id": "6f80027b",
   "metadata": {},
   "source": [
    "## Обучение моделей"
   ]
  },
  {
   "cell_type": "markdown",
   "id": "aeb9b4d8",
   "metadata": {},
   "source": [
    "### Логистическая регрессия"
   ]
  },
  {
   "cell_type": "markdown",
   "id": "f0792ef7",
   "metadata": {},
   "source": [
    "Проверим что дает логистическая регрессия с автоматическим подбором параметров."
   ]
  },
  {
   "cell_type": "code",
   "execution_count": 18,
   "id": "7c657e6b",
   "metadata": {},
   "outputs": [
    {
     "name": "stdout",
     "output_type": "stream",
     "text": [
      "Значения метрик на валидационной выборке:\n",
      "f1:      0.3249097472924188\n",
      "roc_auc: 0.7814285780387474\n"
     ]
    }
   ],
   "source": [
    "model_lr = LogisticRegression(random_state=1, solver='liblinear')\n",
    "model_lr.fit(features_train, target_train)\n",
    "predictions_valid = model_lr.predict(features_valid)\n",
    "probabilities_valid = model_lr.predict_proba(features_valid)\n",
    "\n",
    "print('Значения метрик на валидационной выборке:')\n",
    "print('f1:     ', f1_score(target_valid, predictions_valid))\n",
    "print('roc_auc:', roc_auc_score(target_valid, probabilities_valid[:,1]))\n",
    "#model_lr.get_params()"
   ]
  },
  {
   "cell_type": "markdown",
   "id": "031594d2",
   "metadata": {},
   "source": [
    "А теперь попробуем улучшить результат, сделаем гридсерч."
   ]
  },
  {
   "cell_type": "code",
   "execution_count": 19,
   "id": "97e4175f",
   "metadata": {},
   "outputs": [
    {
     "name": "stdout",
     "output_type": "stream",
     "text": [
      "\n",
      "GridSearchCV_best_score 0.31397464512635276\n",
      "\n",
      "Значения метрик на валидационной выборке:\n",
      "f1:      0.3249097472924188\n",
      "roc_auc: 0.7815797307322732\n",
      "\n",
      "CPU times: user 1min 43s, sys: 2min 26s, total: 4min 9s\n",
      "Wall time: 4min 10s\n"
     ]
    }
   ],
   "source": [
    "%%time\n",
    "\n",
    "model_lr = LogisticRegression(random_state=1)\n",
    "param_lr = {\n",
    "   'penalty'  : ['l1', 'l2', 'elasticnet', 'none'],\n",
    "    'C'       : np.logspace(-1,1,10),\n",
    "    'solver'  : ['newton-cg', 'lbfgs', 'liblinear'],\n",
    "    'max_iter': range(100,250,50)\n",
    "}\n",
    "\n",
    "GS = GridSearchCV(model_lr,\n",
    "                   param_grid=param_lr,\n",
    "                   scoring='f1',\n",
    "                   cv=5\n",
    ")\n",
    "\n",
    "GS.fit(features_train, target_train)\n",
    "\n",
    "print('\\nGridSearchCV_best_score', GS.best_score_)\n",
    "#print('best param', GS.best_params_)\n",
    "print('\\nЗначения метрик на валидационной выборке:')\n",
    "predictions_valid = GS.predict(features_valid)\n",
    "probabilities_valid = GS.predict_proba(features_valid)\n",
    "print('f1:     ', f1_score(target_valid, predictions_valid))\n",
    "print('roc_auc:', roc_auc_score(target_valid, probabilities_valid[:,1]))\n",
    "print()"
   ]
  },
  {
   "cell_type": "markdown",
   "id": "03f33d7c",
   "metadata": {},
   "source": [
    "Благодаря гридсерчу удалось подтянуть roc_auc-метрику на сотую долю процента, а вот f1-метрика и вовсе не изменилась, она около 0.33 :) "
   ]
  },
  {
   "cell_type": "markdown",
   "id": "3c81941f",
   "metadata": {},
   "source": [
    "### Дерево"
   ]
  },
  {
   "cell_type": "markdown",
   "id": "9305c1c5",
   "metadata": {},
   "source": [
    "Проверим что дает дерево решений с автоматическим подбором параметров."
   ]
  },
  {
   "cell_type": "code",
   "execution_count": 20,
   "id": "c8c722a4",
   "metadata": {},
   "outputs": [
    {
     "name": "stdout",
     "output_type": "stream",
     "text": [
      "Значения метрик на валидационной выборке:\n",
      "f1:      0.503562945368171\n",
      "roc_auc: 0.690448537906165\n"
     ]
    }
   ],
   "source": [
    "model_tree = DecisionTreeClassifier(random_state=1)\n",
    "model_tree.fit(features_train, target_train)\n",
    "predictions_valid = model_tree.predict(features_valid)\n",
    "probabilities_valid =  model_tree.predict_proba(features_valid)\n",
    "\n",
    "print('Значения метрик на валидационной выборке:')\n",
    "print('f1:     ', f1_score(target_valid, predictions_valid))\n",
    "print('roc_auc:', roc_auc_score(target_valid, probabilities_valid[:,1]))\n",
    "\n",
    "#model_tree.get_params()\n"
   ]
  },
  {
   "cell_type": "markdown",
   "id": "8a87ef5b",
   "metadata": {},
   "source": [
    "А теперь посмотрим, как улучшит результат GridSearch."
   ]
  },
  {
   "cell_type": "code",
   "execution_count": 21,
   "id": "d40f3b2d",
   "metadata": {},
   "outputs": [
    {
     "name": "stdout",
     "output_type": "stream",
     "text": [
      "\n",
      "GridSearchCV_best_score 0.57981162411126\n",
      "\n",
      "Значения метрик на валидационной выборке:\n",
      "f1:      0.5565476190476191\n",
      "roc_auc: 0.8205092611872273\n",
      "\n"
     ]
    }
   ],
   "source": [
    "param_tree = {\n",
    "    'criterion' : ['gini', 'entropy', 'log_loss'],\n",
    "    'max_depth': range(1, 15),\n",
    "    'min_samples_split': range(2, 5),\n",
    "    'min_samples_leaf': range(1, 5),\n",
    "}\n",
    "\n",
    "GS_tree = GridSearchCV(model_tree,\n",
    "                        param_grid = param_tree,\n",
    "                        scoring='f1',\n",
    "                        cv=10\n",
    ")\n",
    "\n",
    "GS_tree.fit(features_train, target_train)\n",
    "print('\\nGridSearchCV_best_score', GS_tree.best_score_)\n",
    "#print('best params', GS_tree.best_params_)\n",
    "\n",
    "print('\\nЗначения метрик на валидационной выборке:')\n",
    "predictions_valid = GS_tree.predict(features_valid)\n",
    "probabilities_valid = GS_tree.predict_proba(features_valid)\n",
    "print('f1:     ', f1_score(target_valid, predictions_valid))\n",
    "print('roc_auc:', roc_auc_score(target_valid, probabilities_valid[:,1]))\n",
    "print()\n"
   ]
  },
  {
   "cell_type": "markdown",
   "id": "ae4c18cb",
   "metadata": {},
   "source": [
    "Дерево по умолчанию выдает f1-метрику 0.50, благодаря гридсерчу удалось дотянуть f1-метрику до 0.56.\n",
    "\n",
    "Средняя оценка метрики f1 методом best_score_ при кросс-валидации получается 0.58. "
   ]
  },
  {
   "cell_type": "markdown",
   "id": "b7f69a45",
   "metadata": {},
   "source": [
    "### Лес"
   ]
  },
  {
   "cell_type": "markdown",
   "id": "d30d950e",
   "metadata": {},
   "source": [
    "Проверим что дает лес с автоматическим подбором параметров."
   ]
  },
  {
   "cell_type": "code",
   "execution_count": 22,
   "id": "61e5dcc9",
   "metadata": {},
   "outputs": [
    {
     "name": "stdout",
     "output_type": "stream",
     "text": [
      "Значения метрик на валидационной выборке:\n",
      "f1:      0.5779816513761468\n",
      "roc_auc: 0.8357355814982934\n"
     ]
    }
   ],
   "source": [
    "model_forest = RandomForestClassifier(random_state=1, n_jobs=2)\n",
    "model_forest.fit(features_train, target_train)\n",
    "predictions_valid = model_forest.predict(features_valid)\n",
    "probabilities_valid =  model_forest.predict_proba(features_valid)\n",
    "\n",
    "print('Значения метрик на валидационной выборке:')\n",
    "print('f1:     ', f1_score(target_valid, predictions_valid))\n",
    "print('roc_auc:', roc_auc_score(target_valid, probabilities_valid[:,1]))\n",
    "#model_forest.get_params()"
   ]
  },
  {
   "cell_type": "markdown",
   "id": "36303c5f",
   "metadata": {},
   "source": [
    "А теперь посмотрим, как улучшит результат GridSearch."
   ]
  },
  {
   "cell_type": "code",
   "execution_count": 23,
   "id": "bcb66b10",
   "metadata": {},
   "outputs": [
    {
     "name": "stdout",
     "output_type": "stream",
     "text": [
      "best_score 0.5767707671881315\n",
      "\n",
      "Значения метрик на валидационной выборке:\n",
      "f1:      0.5705521472392637\n",
      "roc_auc: 0.8408608917083493\n",
      "\n",
      "CPU times: user 25.9 s, sys: 5.66 s, total: 31.6 s\n",
      "Wall time: 1min 39s\n"
     ]
    }
   ],
   "source": [
    "%%time\n",
    "param_forest = {\n",
    "   # 'criterion' : ['gini', 'entropy', 'log_loss'],\n",
    "    'max_depth': range(5, 20),\n",
    "    #'min_samples_split': range(2, 5),\n",
    "    #'min_samples_leaf': range(1, 5),\n",
    "    'n_estimators': range(90, 120, 5)\n",
    "}\n",
    "\n",
    "GS_forest = GridSearchCV(model_forest,\n",
    "                        param_grid = param_forest,\n",
    "                        scoring='f1',\n",
    "                        cv=2\n",
    ")\n",
    "\n",
    "GS_forest.fit(features_train, target_train)\n",
    "print('best_score', GS_forest.best_score_)\n",
    "#print('best params', GS_forest.best_params_)\n",
    "\n",
    "print('\\nЗначения метрик на валидационной выборке:')\n",
    "predictions_valid = GS_forest.predict(features_valid)\n",
    "probabilities_valid = GS_forest.predict_proba(features_valid)\n",
    "print('f1:     ', f1_score(target_valid, predictions_valid))\n",
    "print('roc_auc:', roc_auc_score(target_valid, probabilities_valid[:,1]))\n",
    "print()\n"
   ]
  },
  {
   "cell_type": "markdown",
   "id": "a47044d3",
   "metadata": {},
   "source": [
    "Лес по умолчанию выдает f1-метрику 0.57, гридсерч не помог улучшить этот показатель.\n",
    "\n",
    "Зато roc_auc получается 0.84."
   ]
  },
  {
   "cell_type": "markdown",
   "id": "389a4a37",
   "metadata": {},
   "source": [
    "### Выводы"
   ]
  },
  {
   "cell_type": "markdown",
   "id": "375b0337",
   "metadata": {},
   "source": [
    "Самое высокое значение метрики f1 обеспечивается моделью случайного леса и составляет 0.57, при значении roc_auc 0.84.\n",
    "\n",
    "Логистическая регрессия - модель самого низкого качества, ее f1-метрика - 0.31.\n",
    "Вместе с этим, у логистической регрессии довольно высокая метрика auc_roc (около 0.78).  "
   ]
  },
  {
   "cell_type": "markdown",
   "id": "4a18622a",
   "metadata": {},
   "source": [
    "## Обучение моделей с учетом дисбаланса классов"
   ]
  },
  {
   "cell_type": "markdown",
   "id": "51c564b6",
   "metadata": {},
   "source": [
    "Делаю under- и oversampling"
   ]
  },
  {
   "cell_type": "code",
   "execution_count": 25,
   "id": "4c1240a2",
   "metadata": {},
   "outputs": [],
   "source": [
    "rus = RandomUnderSampler(random_state=1)\n",
    "features_down_train, target_down_train = rus.fit_resample(features_train, target_train)\n",
    "\n",
    "sm = SMOTE(random_state=42)\n",
    "features_up_train, target_up_train = sm.fit_resample(features_train, target_train)\n",
    "\n",
    "# проверка\n",
    "#print('row:\\n', target_train.value_counts())\n",
    "#print('resampled:\\n', target_train_under.value_counts())\n",
    "#print('resampled:\\n', target_train_over.value_counts())"
   ]
  },
  {
   "cell_type": "markdown",
   "id": "57d244d5",
   "metadata": {},
   "source": [
    "Есть подозрение, что после ресемплинга, должен поехать скейлинг. Проверим это, и если так, то придется опять все заново масштабировать. Проверим на примере столбца 'age'. </div>\n"
   ]
  },
  {
   "cell_type": "code",
   "execution_count": 26,
   "id": "31119004",
   "metadata": {},
   "outputs": [
    {
     "data": {
      "image/png": "[encoded data removed]",
      "text/plain": [
       "<Figure size 432x288 with 1 Axes>"
      ]
     },
     "metadata": {
      "needs_background": "light"
     },
     "output_type": "display_data"
    },
    {
     "data": {
      "image/png": "[encoded data removed]",
      "text/plain": [
       "<Figure size 432x288 with 1 Axes>"
      ]
     },
     "metadata": {
      "needs_background": "light"
     },
     "output_type": "display_data"
    },
    {
     "data": {
      "image/png": "[encoded data removed]",
      "text/plain": [
       "<Figure size 432x288 with 1 Axes>"
      ]
     },
     "metadata": {
      "needs_background": "light"
     },
     "output_type": "display_data"
    }
   ],
   "source": [
    "#print(features_train['age'].describe())\n",
    "#print(features_train_under['age'].describe())\n",
    "#print(features_train_over['age'].describe())\n",
    "\n",
    "plt.hist(features_train['age'], bins=30)\n",
    "mean = round(features_train['age'].mean(),2)\n",
    "var = round(np.var(features_train['age']),2)\n",
    "plt.axvline(features_train['age'].mean(), color='r', label = 'mean')\n",
    "plt.legend()\n",
    "plt.grid()\n",
    "plt.xlim(-2,5)\n",
    "plt.title(f'Распределение по возрастам в трейне.\\nСреднее = {mean}, Дисперсия {var}')\n",
    "plt.show()\n",
    "\n",
    "plt.hist(features_down_train['age'], bins=30)\n",
    "mean = round(features_down_train['age'].mean(), 2)\n",
    "var = round(np.var(features_down_train['age']), 2)\n",
    "plt.axvline(features_down_train['age'].mean(), color='r', label = 'mean')\n",
    "plt.legend()\n",
    "plt.grid(which='both')\n",
    "plt.xlim(-2,5)\n",
    "plt.title(f'Распределение по возрастам в трейне после андерсемплинга.\\nСреднее = {mean}, Дисперсия {var}')\n",
    "plt.show()\n",
    "\n",
    "plt.hist(features_up_train['age'], bins=30)\n",
    "mean = round(features_up_train['age'].mean(),2)\n",
    "var = round(np.var(features_up_train['age']), 2)\n",
    "plt.axvline(features_up_train['age'].mean(), color='r', label = 'mean')\n",
    "plt.legend()\n",
    "plt.grid(which='both')\n",
    "plt.xlim(-2,5)\n",
    "plt.title(f'Распределение по возрастам в трейне после оверсемплинга.\\nСреднее = {mean}, Дисперсия {var}')\n",
    "plt.show()"
   ]
  },
  {
   "cell_type": "markdown",
   "id": "30397ccd",
   "metadata": {},
   "source": [
    "Да, масштабирование съехало. Не сильно. Если бы дисбаланс был больше, то и масштабирование, вероятно, сильнее испортилось. Наверное, грамотно будет заново промасштабировать все. Значит нужно делать отдельно валид- и тест- выборки перемаштабированные под каждый случай ресемплинга."
   ]
  },
  {
   "cell_type": "code",
   "execution_count": 27,
   "id": "4512e05d",
   "metadata": {},
   "outputs": [],
   "source": [
    "columns_to_scale = ['creditscore', 'age', 'tenure', 'balance', 'estimatedsalary']\n",
    "scaler = StandardScaler()\n",
    "\n",
    "scaler.fit(features_down_train[columns_to_scale])\n",
    "features_down_valid = features_valid.copy()\n",
    "features_down_test = features_test.copy()\n",
    "features_down_train[columns_to_scale] = scaler.transform(features_down_train[columns_to_scale])\n",
    "features_down_valid[columns_to_scale] = scaler.transform(features_valid[columns_to_scale])\n",
    "features_down_test[columns_to_scale] = scaler.transform(features_test[columns_to_scale])\n",
    "\n",
    "scaler.fit(features_up_train[columns_to_scale])\n",
    "features_up_valid = features_valid.copy()\n",
    "features_up_test = features_test.copy()\n",
    "features_up_train[columns_to_scale] = scaler.transform(features_up_train[columns_to_scale])\n",
    "features_up_valid[columns_to_scale] = scaler.transform(features_valid[columns_to_scale])\n",
    "features_up_test[columns_to_scale] = scaler.transform(features_test[columns_to_scale])"
   ]
  },
  {
   "cell_type": "markdown",
   "id": "4ad032e7",
   "metadata": {},
   "source": [
    "### Логистическая регрессия"
   ]
  },
  {
   "cell_type": "markdown",
   "id": "c43add1a",
   "metadata": {},
   "source": [
    "Сравним, какие метрики получаются при использовании гиперпараметра class_weight, а также upsampling и downsampling.\n",
    "Пока посмотрим на автоматически подобранных параметрах."
   ]
  },
  {
   "cell_type": "code",
   "execution_count": 28,
   "id": "0a8aaa03",
   "metadata": {},
   "outputs": [
    {
     "name": "stdout",
     "output_type": "stream",
     "text": [
      "f1 with class_weight:      0.5175438596491228\n",
      "roc_auc with class_weight: 0.7818558157541208\n",
      "\n",
      "f1 with upsampling:        0.4909420289855072\n",
      "roc_auc with upsampling:   0.7767058275532852\n",
      "\n",
      "f1 with downsampling:      0.5186500888099467\n",
      "roc_auc with downsampling: 0.7820763752967143\n"
     ]
    }
   ],
   "source": [
    "#def f1()\n",
    "model_LR_balanced = LogisticRegression(random_state=1, class_weight='balanced')\n",
    "model_LR_balanced.fit(features_train, target_train)\n",
    "predictions_valid = model_LR_balanced.predict(features_valid)\n",
    "#print(model_LR_balanced.get_params())\n",
    "print('f1 with class_weight:     ', f1_score(target_valid, predictions_valid))\n",
    "probabilities_valid = model_LR_balanced.predict_proba(features_valid)\n",
    "print('roc_auc with class_weight:', roc_auc_score(target_valid, probabilities_valid[:,1]))\n",
    "\n",
    "\n",
    "\n",
    "model_LR = LogisticRegression(random_state=1)\n",
    "model_LR.fit(features_up_train, target_up_train)\n",
    "predictions_up_valid = model_LR.predict(features_up_valid)\n",
    "#print(model_LR.get_params())\n",
    "print('\\nf1 with upsampling:       ', f1_score(target_valid, predictions_up_valid))\n",
    "probabilities_up_valid = model_LR.predict_proba(features_up_valid)\n",
    "print('roc_auc with upsampling:  ', roc_auc_score(target_valid, probabilities_up_valid[:,1]))\n",
    "\n",
    "\n",
    "model_LR.fit(features_down_train, target_down_train)\n",
    "predictions_down_valid = model_LR.predict(features_down_valid)\n",
    "#print(model_LR.get_params())\n",
    "print('\\nf1 with downsampling:     ', f1_score(target_valid, predictions_down_valid))\n",
    "probabilities_down_valid = model_LR.predict_proba(features_down_valid)\n",
    "print('roc_auc with downsampling:', roc_auc_score(target_valid, probabilities_down_valid[:,1]))\n",
    "\n"
   ]
  },
  {
   "cell_type": "markdown",
   "id": "c3c4e6f8",
   "metadata": {},
   "source": [
    "Лучше всего получилось в случае с немодифицированной выборкой и парметром class_weight='balanced'. Поэтому стоит попробовать аккуратнее подобрать гиперпараметры модели в этом случае."
   ]
  },
  {
   "cell_type": "code",
   "execution_count": 29,
   "id": "5d688ba8",
   "metadata": {},
   "outputs": [
    {
     "name": "stdout",
     "output_type": "stream",
     "text": [
      "\n",
      "f1 from validation    :      0.518843120070114\n",
      "roc_auc from validation: 0.7818959174891379\n"
     ]
    }
   ],
   "source": [
    "model_LR_balanced = LogisticRegression(random_state=1, class_weight='balanced', n_jobs=2)\n",
    "param_LR = {\n",
    "   'penalty'  : ['l1', 'l2', 'elasticnet', 'none'],\n",
    "    'C'       : np.logspace(-1,1,10),\n",
    "    'solver'  : ['newton-cg', 'lbfgs', 'liblinear'],\n",
    "    'max_iter': range(80,140,10)\n",
    "}\n",
    "\n",
    "GS = GridSearchCV(model_LR_balanced,\n",
    "                   param_grid=param_LR,\n",
    "                   scoring='f1',\n",
    "                   cv=5\n",
    ")\n",
    "\n",
    "GS.fit(features_train, target_train)\n",
    "\n",
    "#print('best param', GS.best_params_)\n",
    "predictions_valid = GS.predict(features_valid)\n",
    "print('\\nf1 from validation    :     ', f1_score(target_valid, predictions_valid))\n",
    "probabilities_valid = GS.predict_proba(features_valid)\n",
    "print('roc_auc from validation:', roc_auc_score(target_valid, probabilities_valid[:,1]))"
   ]
  },
  {
   "cell_type": "markdown",
   "id": "24c581b6",
   "metadata": {},
   "source": [
    "Логистическая регрессия выдала максимум f1-score  0.52"
   ]
  },
  {
   "cell_type": "markdown",
   "id": "87e3ae1d",
   "metadata": {},
   "source": [
    "### Дерево"
   ]
  },
  {
   "cell_type": "markdown",
   "id": "847ef2f6",
   "metadata": {},
   "source": [
    "Опять посмотрим, что лучше: class_weight='balanced', upsampling или downsampling"
   ]
  },
  {
   "cell_type": "code",
   "execution_count": 30,
   "id": "72f013bb",
   "metadata": {},
   "outputs": [
    {
     "name": "stdout",
     "output_type": "stream",
     "text": [
      "f1 with class_weight:      0.48635235732009924\n",
      "roc_auc with class_weight: 0.6770699821547279\n",
      "\n",
      "f1 with upsampling:        0.50989010989011\n",
      "roc_auc with upsampling:   0.6999526491051915\n",
      "\n",
      "f1 with downsampling:      0.4982758620689655\n",
      "roc_auc with downsampling: 0.7093996924505399\n"
     ]
    }
   ],
   "source": [
    "model_tree_balanced = DecisionTreeClassifier(random_state=1, class_weight='balanced')\n",
    "model_tree_balanced.fit(features_train, target_train)\n",
    "predictions_valid = model_tree_balanced.predict(features_valid)\n",
    "#print(model_tree_balanced.get_params())\n",
    "print('f1 with class_weight:     ', f1_score(target_valid, predictions_valid))\n",
    "probabilities_valid = model_tree_balanced.predict_proba(features_valid)\n",
    "print('roc_auc with class_weight:', roc_auc_score(target_valid, probabilities_valid[:,1]))\n",
    "\n",
    "\n",
    "model_tree = DecisionTreeClassifier(random_state=1)\n",
    "model_tree.fit(features_up_train, target_up_train)\n",
    "predictions_up_valid = model_tree.predict(features_up_valid)\n",
    "#print(model_tree.get_params())\n",
    "print('\\nf1 with upsampling:       ', f1_score(target_valid, predictions_up_valid))\n",
    "probabilities_up_valid = model_tree.predict_proba(features_up_valid)\n",
    "print('roc_auc with upsampling:  ', roc_auc_score(target_valid, probabilities_up_valid[:,1]))\n",
    "\n",
    "\n",
    "model_tree.fit(features_down_train, target_down_train)\n",
    "predictions_down_valid = model_tree.predict(features_down_valid)\n",
    "#print(model_tree.get_params())\n",
    "print('\\nf1 with downsampling:     ', f1_score(target_valid, predictions_down_valid))\n",
    "probabilities_down_valid = model_tree.predict_proba(features_down_valid)\n",
    "print('roc_auc with downsampling:', roc_auc_score(target_valid, probabilities_down_valid[:,1]))"
   ]
  },
  {
   "cell_type": "markdown",
   "id": "cd92816d",
   "metadata": {},
   "source": [
    "Для дерева лучше всего оказался upsampling, f1-мера 0.51. Сделаем GridSearch и дадим ему upsampled выборку."
   ]
  },
  {
   "cell_type": "code",
   "execution_count": 31,
   "id": "e3aec43d",
   "metadata": {},
   "outputs": [
    {
     "name": "stdout",
     "output_type": "stream",
     "text": [
      "\n",
      "f1 from validation:      0.5313496280552603\n",
      "roc_auc from validation: 0.7448473126439229\n"
     ]
    }
   ],
   "source": [
    "model_tree = DecisionTreeClassifier(random_state=1)\n",
    "\n",
    "param_tree = {\n",
    "    'criterion' : ['gini', 'entropy', 'log_loss'],\n",
    "    'max_depth': range(1, 15),\n",
    "    'min_samples_split': range(2, 5),\n",
    "    'min_samples_leaf': range(1, 5),\n",
    "}\n",
    "\n",
    "GS_tree = GridSearchCV(model_tree,\n",
    "                      param_grid=param_tree,\n",
    "                      scoring='f1',\n",
    "                      cv=5)\n",
    "\n",
    "GS_tree.fit(features_up_train, target_up_train)\n",
    "#print('best_score', GS_tree.best_score_)\n",
    "#print('best params', GS_tree.best_params_)\n",
    "predictions_up_valid = GS_tree.predict(features_up_valid)\n",
    "print('\\nf1 from validation:     ', f1_score(target_valid, predictions_up_valid))\n",
    "probabilities_up_valid = GS_tree.predict_proba(features_up_valid)\n",
    "print('roc_auc from validation:', roc_auc_score(target_valid, probabilities_up_valid[:,1]))"
   ]
  },
  {
   "cell_type": "markdown",
   "id": "f77f130b",
   "metadata": {},
   "source": [
    "ГридСерч дотянул f1-метрику до 0.53 и auc_roc до 0.75 "
   ]
  },
  {
   "cell_type": "markdown",
   "id": "0aacd49b",
   "metadata": {},
   "source": [
    "### Лес"
   ]
  },
  {
   "cell_type": "markdown",
   "id": "2756d8ea",
   "metadata": {},
   "source": [
    "Выбираем, что лучше: class_weight='balanced', upsampling или downsampling"
   ]
  },
  {
   "cell_type": "code",
   "execution_count": 32,
   "id": "a00cab9e",
   "metadata": {},
   "outputs": [
    {
     "name": "stdout",
     "output_type": "stream",
     "text": [
      "f1 with class_weight:      0.56793893129771\n",
      "roc_auc with class_weight: 0.8345741735572245\n",
      "\n",
      "f1 with upsampling:        0.5830164765525984\n",
      "roc_auc with upsampling:   0.8372687016754814\n",
      "\n",
      "f1 with downsampling:      0.5851272015655578\n",
      "roc_auc with downsampling: 0.8376550664686256\n"
     ]
    }
   ],
   "source": [
    "model_forest_balanced = RandomForestClassifier(random_state=1, class_weight='balanced')\n",
    "model_forest_balanced.fit(features_train, target_train)\n",
    "predictions_valid = model_forest_balanced.predict(features_valid)\n",
    "#print(model_forest_balanced.get_params())\n",
    "print('f1 with class_weight:     ', f1_score(target_valid, predictions_valid))\n",
    "probabilities_valid = model_forest_balanced.predict_proba(features_valid)\n",
    "print('roc_auc with class_weight:', roc_auc_score(target_valid, probabilities_valid[:,1]))\n",
    "\n",
    "\n",
    "model_forest = RandomForestClassifier(random_state=1)\n",
    "model_forest.fit(features_up_train, target_up_train)\n",
    "predictions_up_valid = model_forest.predict(features_up_valid)\n",
    "#print(model_forest.get_params())\n",
    "print('\\nf1 with upsampling:       ', f1_score(target_valid, predictions_up_valid))\n",
    "probabilities_up_valid = model_forest.predict_proba(features_up_valid)\n",
    "print('roc_auc with upsampling:  ', roc_auc_score(target_valid, probabilities_up_valid[:,1]))\n",
    "\n",
    "model_forest.fit(features_down_train, target_down_train)\n",
    "predictions_down_valid = model_forest.predict(features_down_valid)\n",
    "#print(model_forest.get_params())\n",
    "print('\\nf1 with downsampling:     ', f1_score(target_valid, predictions_down_valid))\n",
    "probabilities_down_valid = model_forest.predict_proba(features_down_valid)\n",
    "print('roc_auc with downsampling:', roc_auc_score(target_valid, probabilities_down_valid[:,1]))"
   ]
  },
  {
   "cell_type": "markdown",
   "id": "426734b6",
   "metadata": {},
   "source": [
    "Опять победил upsampling, f1-мера 0.58. Попробуем теперь рандомайзд серч и засунем в него upsampled выборку."
   ]
  },
  {
   "cell_type": "code",
   "execution_count": 33,
   "id": "83ff7ddf",
   "metadata": {},
   "outputs": [
    {
     "name": "stdout",
     "output_type": "stream",
     "text": [
      "\n",
      "f1 from validation:      0.5876543209876544\n",
      "roc_auc from validation: 0.8421001895578166\n",
      "CPU times: user 12min 19s, sys: 5.03 s, total: 12min 24s\n",
      "Wall time: 12min 25s\n"
     ]
    }
   ],
   "source": [
    "%%time\n",
    "model_forest = RandomForestClassifier(random_state=1)\n",
    "param_forest = {\n",
    "    'criterion' : ['gini', 'entropy', 'log_loss'],\n",
    "    'max_depth': range(10, 20),\n",
    "    'min_samples_split': range(2, 4),\n",
    "    'min_samples_leaf': range(1, 3),\n",
    "    'n_estimators': range(140, 160, 1)\n",
    "}\n",
    "\n",
    "GS_forest = RandomizedSearchCV(model_forest,\n",
    "                        param_distributions = param_forest,\n",
    "                        scoring='f1',\n",
    "                        n_iter=100,\n",
    "                        cv=5\n",
    ")\n",
    "\n",
    "GS_forest.fit(features_up_train, target_up_train)\n",
    "#print('best_score', GS_forest.best_score_)\n",
    "#print('best params', GS_forest.best_params_)\n",
    "predictions_up_valid = GS_forest.predict(features_up_valid)\n",
    "print('\\nf1 from validation:     ', f1_score(target_valid, predictions_up_valid))\n",
    "probabilities_up_valid = GS_forest.predict_proba(features_up_valid)\n",
    "print('roc_auc from validation:', roc_auc_score(target_valid, probabilities_up_valid[:,1]))"
   ]
  },
  {
   "cell_type": "code",
   "execution_count": 34,
   "id": "bad11b54",
   "metadata": {},
   "outputs": [
    {
     "name": "stdout",
     "output_type": "stream",
     "text": [
      "best params {'n_estimators': 151, 'min_samples_split': 2, 'min_samples_leaf': 1, 'max_depth': 18, 'criterion': 'entropy'}\n"
     ]
    }
   ],
   "source": [
    "print('best params', GS_forest.best_params_)"
   ]
  },
  {
   "cell_type": "markdown",
   "id": "375bff73",
   "metadata": {},
   "source": [
    "f1=0.59, это самый хороший результат, поэтому выбираем модель леса как самую удачную."
   ]
  },
  {
   "cell_type": "markdown",
   "id": "856e69aa",
   "metadata": {},
   "source": [
    "### Вывод\n",
    "\n",
    "Самой лучшей оказалась модель леса, f1 метрика 0.59, roc_auc = 0.84"
   ]
  },
  {
   "cell_type": "markdown",
   "id": "80762321",
   "metadata": {},
   "source": [
    "## Финальное тестирование"
   ]
  },
  {
   "cell_type": "markdown",
   "id": "ec12cc1c",
   "metadata": {},
   "source": [
    "А теперь возьмем наш обученный лес и протестируем его на тестовой выборке."
   ]
  },
  {
   "cell_type": "code",
   "execution_count": 35,
   "id": "4cca4a77",
   "metadata": {},
   "outputs": [
    {
     "name": "stdout",
     "output_type": "stream",
     "text": [
      "f1-score 0.5784061696658098\n",
      "roc_auc  0.8397902502709627\n"
     ]
    }
   ],
   "source": [
    "predictions_test = GS_forest.predict(features_up_test)\n",
    "probabilities_test = GS_forest.predict_proba(features_up_test)\n",
    "print ('f1-score', f1_score(target_test, predictions_test))\n",
    "print('roc_auc ', roc_auc_score(target_test, probabilities_test[:,1]))"
   ]
  },
  {
   "cell_type": "markdown",
   "id": "097c2dc0",
   "metadata": {},
   "source": [
    "## Выводы\n",
    "- Учет несбалансированности классов позволяет повысить точность предсказания моделей\n",
    "- В данной задаче самой эффективной моделью оказался случайный лес, натренированный на upsampled выборке\n",
    "- Максимальная полученная f1-мера достигла 0.59 и roc_auc 0.84 на валидационной выборке и 0.58 и 0.84 на тестовой, соответственно. При тренировке модели без учета дисбаланса классов, f1-мера снижается до 0.57, а roc_auc практически не изменяется."
   ]
  }
 ],
 "metadata": {
  "ExecuteTimeLog": [
   {
    "duration": 3035,
    "start_time": "2022-12-07T13:07:10.565Z"
   },
   {
    "duration": 91,
    "start_time": "2022-12-07T13:07:13.602Z"
   },
   {
    "duration": 3,
    "start_time": "2022-12-07T13:07:13.695Z"
   },
   {
    "duration": 35,
    "start_time": "2022-12-07T13:07:13.700Z"
   },
   {
    "duration": 16,
    "start_time": "2022-12-07T13:07:13.736Z"
   },
   {
    "duration": 1724,
    "start_time": "2022-12-07T13:07:13.754Z"
   },
   {
    "duration": 347,
    "start_time": "2022-12-07T13:07:15.479Z"
   },
   {
    "duration": 371,
    "start_time": "2022-12-07T13:07:15.828Z"
   },
   {
    "duration": 14,
    "start_time": "2022-12-07T13:07:16.200Z"
   },
   {
    "duration": 8,
    "start_time": "2022-12-07T13:07:16.216Z"
   },
   {
    "duration": 11,
    "start_time": "2022-12-07T13:07:16.226Z"
   },
   {
    "duration": 17,
    "start_time": "2022-12-07T13:07:16.239Z"
   },
   {
    "duration": 42,
    "start_time": "2022-12-07T13:07:16.258Z"
   },
   {
    "duration": 5,
    "start_time": "2022-12-07T13:07:16.301Z"
   },
   {
    "duration": 9,
    "start_time": "2022-12-07T13:07:16.308Z"
   },
   {
    "duration": 67,
    "start_time": "2022-12-07T13:07:16.318Z"
   },
   {
    "duration": 396321,
    "start_time": "2022-12-07T13:07:16.478Z"
   },
   {
    "duration": 132,
    "start_time": "2022-12-07T13:13:52.881Z"
   },
   {
    "duration": 86634,
    "start_time": "2022-12-07T13:13:53.014Z"
   },
   {
    "duration": 1172,
    "start_time": "2022-12-07T13:15:19.650Z"
   },
   {
    "duration": 121056,
    "start_time": "2022-12-07T13:15:20.823Z"
   },
   {
    "duration": 124,
    "start_time": "2022-12-07T13:17:21.882Z"
   },
   {
    "duration": 772,
    "start_time": "2022-12-07T13:17:22.008Z"
   },
   {
    "duration": 166225,
    "start_time": "2022-12-07T13:17:22.782Z"
   },
   {
    "duration": 122,
    "start_time": "2022-12-07T13:20:09.009Z"
   },
   {
    "duration": 51097,
    "start_time": "2022-12-07T13:20:09.133Z"
   },
   {
    "duration": 2398,
    "start_time": "2022-12-07T13:21:00.232Z"
   },
   {
    "duration": 130612,
    "start_time": "2022-12-07T13:21:02.633Z"
   },
   {
    "duration": 317,
    "start_time": "2022-12-07T13:23:13.247Z"
   },
   {
    "duration": 1454,
    "start_time": "2022-12-09T13:46:02.227Z"
   },
   {
    "duration": 100,
    "start_time": "2022-12-09T13:46:03.683Z"
   },
   {
    "duration": 3,
    "start_time": "2022-12-09T13:46:03.785Z"
   },
   {
    "duration": 27,
    "start_time": "2022-12-09T13:46:03.790Z"
   },
   {
    "duration": 7,
    "start_time": "2022-12-09T13:46:03.819Z"
   },
   {
    "duration": 1766,
    "start_time": "2022-12-09T13:46:03.828Z"
   },
   {
    "duration": 360,
    "start_time": "2022-12-09T13:46:05.596Z"
   },
   {
    "duration": 807,
    "start_time": "2022-12-09T13:46:05.957Z"
   },
   {
    "duration": 16,
    "start_time": "2022-12-09T13:46:06.766Z"
   },
   {
    "duration": 22,
    "start_time": "2022-12-09T13:46:06.785Z"
   },
   {
    "duration": 19,
    "start_time": "2022-12-09T13:46:06.810Z"
   },
   {
    "duration": 4,
    "start_time": "2022-12-09T13:46:06.831Z"
   },
   {
    "duration": 31,
    "start_time": "2022-12-09T13:46:06.836Z"
   },
   {
    "duration": 29,
    "start_time": "2022-12-09T13:46:06.869Z"
   },
   {
    "duration": 5,
    "start_time": "2022-12-09T13:46:06.900Z"
   },
   {
    "duration": 5,
    "start_time": "2022-12-09T13:46:06.922Z"
   },
   {
    "duration": 95,
    "start_time": "2022-12-09T13:46:06.928Z"
   },
   {
    "duration": 243097,
    "start_time": "2022-12-09T13:46:07.026Z"
   },
   {
    "duration": 126,
    "start_time": "2022-12-09T13:50:10.125Z"
   },
   {
    "duration": 70579,
    "start_time": "2022-12-09T13:50:10.253Z"
   },
   {
    "duration": 915,
    "start_time": "2022-12-09T13:51:20.834Z"
   },
   {
    "duration": 107101,
    "start_time": "2022-12-09T13:51:21.751Z"
   },
   {
    "duration": 4,
    "start_time": "2022-12-09T13:53:08.854Z"
   },
   {
    "duration": 149,
    "start_time": "2022-12-09T13:53:08.859Z"
   },
   {
    "duration": 0,
    "start_time": "2022-12-09T13:53:09.010Z"
   },
   {
    "duration": 0,
    "start_time": "2022-12-09T13:53:09.011Z"
   },
   {
    "duration": 0,
    "start_time": "2022-12-09T13:53:09.013Z"
   },
   {
    "duration": 0,
    "start_time": "2022-12-09T13:53:09.014Z"
   },
   {
    "duration": 0,
    "start_time": "2022-12-09T13:53:09.015Z"
   },
   {
    "duration": 0,
    "start_time": "2022-12-09T13:53:09.022Z"
   },
   {
    "duration": 0,
    "start_time": "2022-12-09T13:53:09.023Z"
   },
   {
    "duration": 0,
    "start_time": "2022-12-09T13:53:09.024Z"
   },
   {
    "duration": 0,
    "start_time": "2022-12-09T13:53:09.025Z"
   },
   {
    "duration": 0,
    "start_time": "2022-12-09T13:53:09.026Z"
   },
   {
    "duration": 6408,
    "start_time": "2022-12-10T08:40:02.380Z"
   },
   {
    "duration": 1244,
    "start_time": "2022-12-10T08:40:08.790Z"
   },
   {
    "duration": 158,
    "start_time": "2022-12-10T08:40:10.036Z"
   },
   {
    "duration": 4,
    "start_time": "2022-12-10T08:40:10.196Z"
   },
   {
    "duration": 16,
    "start_time": "2022-12-10T08:40:10.201Z"
   },
   {
    "duration": 9,
    "start_time": "2022-12-10T08:40:10.218Z"
   },
   {
    "duration": 1730,
    "start_time": "2022-12-10T08:40:10.235Z"
   },
   {
    "duration": 324,
    "start_time": "2022-12-10T08:40:11.967Z"
   },
   {
    "duration": 807,
    "start_time": "2022-12-10T08:40:12.293Z"
   },
   {
    "duration": 20,
    "start_time": "2022-12-10T08:40:13.103Z"
   },
   {
    "duration": 38,
    "start_time": "2022-12-10T08:40:13.125Z"
   },
   {
    "duration": 12,
    "start_time": "2022-12-10T08:40:13.165Z"
   },
   {
    "duration": 2,
    "start_time": "2022-12-10T08:40:13.179Z"
   },
   {
    "duration": 56,
    "start_time": "2022-12-10T08:40:13.182Z"
   },
   {
    "duration": 22,
    "start_time": "2022-12-10T08:40:13.240Z"
   },
   {
    "duration": 5,
    "start_time": "2022-12-10T08:40:13.263Z"
   },
   {
    "duration": 11,
    "start_time": "2022-12-10T08:40:13.270Z"
   },
   {
    "duration": 46,
    "start_time": "2022-12-10T08:40:13.282Z"
   },
   {
    "duration": 250421,
    "start_time": "2022-12-10T08:40:13.331Z"
   },
   {
    "duration": 126,
    "start_time": "2022-12-10T08:44:23.823Z"
   },
   {
    "duration": 97972,
    "start_time": "2022-12-10T08:44:23.950Z"
   },
   {
    "duration": 920,
    "start_time": "2022-12-10T08:46:01.924Z"
   },
   {
    "duration": 99822,
    "start_time": "2022-12-10T08:46:02.846Z"
   },
   {
    "duration": 4,
    "start_time": "2022-12-10T08:47:42.670Z"
   },
   {
    "duration": 43,
    "start_time": "2022-12-10T08:47:42.721Z"
   },
   {
    "duration": 956,
    "start_time": "2022-12-10T08:47:42.765Z"
   },
   {
    "duration": 40,
    "start_time": "2022-12-10T08:47:43.722Z"
   },
   {
    "duration": 961,
    "start_time": "2022-12-10T08:47:43.765Z"
   },
   {
    "duration": 327493,
    "start_time": "2022-12-10T08:47:44.729Z"
   },
   {
    "duration": 216,
    "start_time": "2022-12-10T08:53:12.224Z"
   },
   {
    "duration": 78504,
    "start_time": "2022-12-10T08:53:12.442Z"
   },
   {
    "duration": 2319,
    "start_time": "2022-12-10T08:54:30.948Z"
   },
   {
    "duration": 745428,
    "start_time": "2022-12-10T08:54:33.268Z"
   },
   {
    "duration": 3,
    "start_time": "2022-12-10T09:06:58.698Z"
   },
   {
    "duration": 169,
    "start_time": "2022-12-10T09:06:58.702Z"
   }
  ],
  "kernelspec": {
   "display_name": "Python 3 (ipykernel)",
   "language": "python",
   "name": "python3"
  },
  "language_info": {
   "codemirror_mode": {
    "name": "ipython",
    "version": 3
   },
   "file_extension": ".py",
   "mimetype": "text/x-python",
   "name": "python",
   "nbconvert_exporter": "python",
   "pygments_lexer": "ipython3",
   "version": "3.9.13"
  },
  "toc": {
   "base_numbering": 1,
   "nav_menu": {},
   "number_sections": true,
   "sideBar": true,
   "skip_h1_title": true,
   "title_cell": "Table of Contents",
   "title_sidebar": "Contents",
   "toc_cell": false,
   "toc_position": {},
   "toc_section_display": true,
   "toc_window_display": false
  }
 },
 "nbformat": 4,
 "nbformat_minor": 5
}
